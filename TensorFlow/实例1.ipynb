{
 "cells": [
  {
   "cell_type": "code",
   "execution_count": 1,
   "metadata": {},
   "outputs": [
    {
     "name": "stderr",
     "output_type": "stream",
     "text": [
      "G:\\Anaconda3\\lib\\site-packages\\h5py\\__init__.py:36: FutureWarning: Conversion of the second argument of issubdtype from `float` to `np.floating` is deprecated. In future, it will be treated as `np.float64 == np.dtype(float).type`.\n",
      "  from ._conv import register_converters as _register_converters\n"
     ]
    }
   ],
   "source": [
    "import tensorflow as tf"
   ]
  },
  {
   "cell_type": "code",
   "execution_count": 2,
   "metadata": {},
   "outputs": [
    {
     "name": "stdout",
     "output_type": "stream",
     "text": [
      "[0.]\n",
      "[1.]\n"
     ]
    }
   ],
   "source": [
    "'''\n",
    "注释的是旧写法，使用新写法代替\n",
    "'''\n",
    "\n",
    "\n",
    "g1 = tf.Graph()\n",
    "with g1.as_default():\n",
    "    # 在计算图g1中定义变量'v'，并设置初始值为0\n",
    "    v = tf.get_variable(\n",
    "#         'v',initializer = tf.zeros_initializer(shape=[1])\n",
    "        'v',initializer = tf.zeros_initializer()(shape=[1])\n",
    "    )\n",
    "\n",
    "g2 = tf.Graph()\n",
    "with g2.as_default():\n",
    "    # 在计算图g2中定义变量'v',并设置初始值为1\n",
    "    v = tf.get_variable(\n",
    "        'v',initializer = tf.ones_initializer()(shape=[1])\n",
    "    )\n",
    "\n",
    "# 计算图g1中读取变量'v'的取值\n",
    "with tf.Session(graph=g1) as sess:\n",
    "#     tf.initialize_all_variables().run()\n",
    "    tf.global_variables_initializer().run()\n",
    "    with tf.variable_scope('',reuse = True):\n",
    "        # 在计算图g1中，变量'v'的取值应该为0，所以下面这行会输出[0.]\n",
    "        print(sess.run(tf.get_variable('v')))\n",
    "\n",
    "# 计算图g2中读取变量'v'的取值\n",
    "with tf.Session(graph=g2) as sess:\n",
    "#     tf.initialize_all_variables().run()\n",
    "    tf.global_variables_initializer().run()\n",
    "    with tf.variable_scope('',reuse = True):\n",
    "        # 在计算图g2中，变量'v'的取值应该为0，所以下面这行会输出[1.]\n",
    "        print(sess.run(tf.get_variable('v')))"
   ]
  },
  {
   "cell_type": "code",
   "execution_count": 4,
   "metadata": {
    "collapsed": true
   },
   "outputs": [
    {
     "ename": "TypeError",
     "evalue": "run() missing 1 required positional argument: 'fetches'",
     "output_type": "error",
     "traceback": [
      "\u001b[1;31m---------------------------------------------------------------------------\u001b[0m",
      "\u001b[1;31mTypeError\u001b[0m                                 Traceback (most recent call last)",
      "\u001b[1;32m<ipython-input-4-81b9cbf44275>\u001b[0m in \u001b[0;36m<module>\u001b[1;34m()\u001b[0m\n\u001b[0;32m      4\u001b[0m \u001b[1;31m# 使用这个创建好的会话来得到关心的运算的结果。比如可以调用sess.run(result),\u001b[0m\u001b[1;33m\u001b[0m\u001b[1;33m\u001b[0m\u001b[0m\n\u001b[0;32m      5\u001b[0m \u001b[1;31m# 来得到3.1节样例中张量result的取值\u001b[0m\u001b[1;33m\u001b[0m\u001b[1;33m\u001b[0m\u001b[0m\n\u001b[1;32m----> 6\u001b[1;33m \u001b[0msess\u001b[0m\u001b[1;33m.\u001b[0m\u001b[0mrun\u001b[0m\u001b[1;33m(\u001b[0m\u001b[1;33m)\u001b[0m\u001b[1;33m\u001b[0m\u001b[0m\n\u001b[0m\u001b[0;32m      7\u001b[0m \u001b[1;31m# 关闭会话使得本次运行中使用到的资源可以被释放\u001b[0m\u001b[1;33m\u001b[0m\u001b[1;33m\u001b[0m\u001b[0m\n\u001b[0;32m      8\u001b[0m \u001b[0msess\u001b[0m\u001b[1;33m.\u001b[0m\u001b[0mclose\u001b[0m\u001b[1;33m(\u001b[0m\u001b[1;33m)\u001b[0m\u001b[1;33m\u001b[0m\u001b[0m\n",
      "\u001b[1;31mTypeError\u001b[0m: run() missing 1 required positional argument: 'fetches'"
     ]
    }
   ],
   "source": [
    "# # 创建一个会话\n",
    "# sess = tf.Session()\n",
    "\n",
    "# # 使用这个创建好的会话来得到关心的运算的结果。比如可以调用sess.run(result),\n",
    "# # 来得到3.1节样例中张量result的取值\n",
    "# sess.run()\n",
    "# # 关闭会话使得本次运行中使用到的资源可以被释放\n",
    "# sess.close()"
   ]
  },
  {
   "cell_type": "code",
   "execution_count": 5,
   "metadata": {},
   "outputs": [],
   "source": [
    "# with tf.Session() as sess:\n",
    "#     # 使用这创建高的会话来计算关心的结果\n",
    "#     sess.run()"
   ]
  },
  {
   "cell_type": "code",
   "execution_count": 4,
   "metadata": {},
   "outputs": [
    {
     "name": "stdout",
     "output_type": "stream",
     "text": [
      "[[-1.1029876]]\n"
     ]
    }
   ],
   "source": [
    "import tensorflow as tf\n",
    "\n",
    "w1 = tf.Variable(tf.random_normal([2,3],stddev=1))\n",
    "w2 = tf.Variable(tf.random_normal([3,1],stddev=1))\n",
    "\n",
    "# 定义placeholder作为存放输入数据的地方，这里维度也不一定要定义\n",
    "# 但如果维度是确定的，那么给出维度可以降低出错的概率\n",
    "\n",
    "x = tf.placeholder(tf.float32,shape=(1,2),name='input')\n",
    "a = tf.matmul(x,w1)\n",
    "y = tf.matmul(a,w2)\n",
    "\n",
    "sess = tf.Session()\n",
    "\n",
    "init_op = tf.initialize_all_variables()\n",
    "sess.run(init_op)\n",
    "\n",
    "# print(sess.run(y))\n",
    "\n",
    "\n",
    "print(sess.run(y,feed_dict={x:[[.7,.9]]}))"
   ]
  },
  {
   "cell_type": "code",
   "execution_count": null,
   "metadata": {},
   "outputs": [],
   "source": []
  }
 ],
 "metadata": {
  "kernelspec": {
   "display_name": "Python 3",
   "language": "python",
   "name": "python3"
  },
  "language_info": {
   "codemirror_mode": {
    "name": "ipython",
    "version": 3
   },
   "file_extension": ".py",
   "mimetype": "text/x-python",
   "name": "python",
   "nbconvert_exporter": "python",
   "pygments_lexer": "ipython3",
   "version": "3.6.5"
  }
 },
 "nbformat": 4,
 "nbformat_minor": 2
}
