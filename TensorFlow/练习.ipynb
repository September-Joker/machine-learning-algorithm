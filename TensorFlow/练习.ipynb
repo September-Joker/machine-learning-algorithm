{
 "cells": [
  {
   "cell_type": "code",
   "execution_count": 5,
   "metadata": {},
   "outputs": [],
   "source": [
    "import tensorflow as tf\n",
    "import numpy as np\n",
    "import matplotlib.pyplot as plt\n",
    " \n",
    "n = 201    # x点数\n",
    "X = np.linspace(-1, 1, n)[:,np.newaxis]    # 等差数列构建X，[:,np.newaxis]这个是shape，这一行构建了一个n维列向量（[1,n]的矩阵）\n",
    "noise = np.random.normal(0, 0.5, X.shape)    # 噪声值，与X同型\n",
    "Y = X*2.7 + 0.6 + noise    # Y\n",
    " \n",
    "xs = tf.placeholder(tf.float32, [None, 1])    # 下面两行是占位符tf.placeholder(dtype, shape)\n",
    "ys = tf.placeholder(tf.float32, [None, 1])\n",
    " \n",
    "w = tf.Variable(1.1)    # 这两行是weight变量，bias变量，括号中是初始值\n",
    "b = tf.Variable(0.2)\n",
    " \n",
    "ypredict = tf.add(w*xs,b)    # 根据 w, b 产生的预测值\n",
    " \n",
    "loss = tf.reduce_sum(tf.pow(ys-ypredict,2.0))/n    # 损失函数，tf.reduce_sum()按某一维度元素求和，默认为按列\n",
    " \n",
    "optimizer = tf.train.GradientDescentOptimizer(0.01).minimize(loss)    # 梯度下降优化器，0.01学习率，最小化losss\n",
    " \n",
    "init = tf.global_variables_initializer()    # 初始化所有变量"
   ]
  },
  {
   "cell_type": "code",
   "execution_count": 6,
   "metadata": {},
   "outputs": [
    {
     "name": "stdout",
     "output_type": "stream",
     "text": [
      "w: 1.1105278 \t b: 0.20765084 \t loss: 1.1967809\n",
      "w: 1.5557199 \t b: 0.44601795 \t loss: 0.676071\n",
      "w: 1.8732903 \t b: 0.53282416 \t loss: 0.4569736\n",
      "w: 2.099824 \t b: 0.5644363 \t loss: 0.35156944\n",
      "w: 2.2614183 \t b: 0.57594866 \t loss: 0.29874152\n",
      "w: 2.3766897 \t b: 0.5801408 \t loss: 0.27196714\n",
      "w: 2.4589171 \t b: 0.58166754 \t loss: 0.25835723\n",
      "w: 2.5175726 \t b: 0.58222365 \t loss: 0.25143382\n",
      "w: 2.5594134 \t b: 0.5824262 \t loss: 0.24791117\n",
      "w: 2.5892599 \t b: 0.58249974 \t loss: 0.24611872\n",
      "w: 2.6105506 \t b: 0.58252656 \t loss: 0.24520661\n",
      "w: 2.6257372 \t b: 0.5825363 \t loss: 0.24474256\n",
      "w: 2.6365705 \t b: 0.5825399 \t loss: 0.24450642\n",
      "w: 2.6442978 \t b: 0.5825405 \t loss: 0.24438624\n",
      "w: 2.6498106 \t b: 0.5825405 \t loss: 0.24432512\n",
      "w: 2.6537435 \t b: 0.5825405 \t loss: 0.24429399\n",
      "w: 2.6565485 \t b: 0.5825405 \t loss: 0.24427816\n",
      "w: 2.6585488 \t b: 0.5825406 \t loss: 0.24427009\n",
      "w: 2.6599767 \t b: 0.5825406 \t loss: 0.24426599\n",
      "w: 2.6609948 \t b: 0.5825406 \t loss: 0.2442639\n",
      "拟合直线表达式为：y= 2.6617088 x+ 0.5825406\n"
     ]
    },
    {
     "data": {
      "image/png": "[encoded data removed]",
      "text/plain": [
       "<Figure size 432x288 with 1 Axes>"
      ]
     },
     "metadata": {},
     "output_type": "display_data"
    }
   ],
   "source": [
    "with tf.Session() as sess: \n",
    "    sess.run(init)    # 运行初始化 \n",
    "    for i in range (1000):    # 迭代1000次 \n",
    "        sess.run(optimizer, feed_dict = {xs:X,ys:Y})    # 运行优化器，梯度下降用到loss，计算loss需要xs, ys所以后面需要feed_dict \n",
    "        if i%50==0:    # 每隔50次迭代输出w,b,loss\n",
    "                 # 下面sess.run(w),sess.run(b)里面没有feed_dict是因为打印w,b不需要xs,ys，而打印loss需要 \n",
    "                 print (\"w:\",sess.run(w),\"\\t b:\", sess.run(b), \"\\t loss:\", sess.run(loss,feed_dict={xs:X,ys:Y})) \n",
    "        \n",
    "    plt.plot(X,X*sess.run(w)+sess.run(b))    # 运行迭代之后绘制拟合曲线，这需要在sess里面运行是因为要用到w,b \n",
    "    print('拟合直线表达式为：y=',sess.run(w),'x+',sess.run(b))\n",
    "    plt.scatter(X,Y)    # 绘制被拟合数据（散点） \n",
    "    plt.show()    # 绘制图像"
   ]
  },
  {
   "cell_type": "code",
   "execution_count": null,
   "metadata": {},
   "outputs": [],
   "source": []
  }
 ],
 "metadata": {
  "kernelspec": {
   "display_name": "Python 3",
   "language": "python",
   "name": "python3"
  },
  "language_info": {
   "codemirror_mode": {
    "name": "ipython",
    "version": 3
   },
   "file_extension": ".py",
   "mimetype": "text/x-python",
   "name": "python",
   "nbconvert_exporter": "python",
   "pygments_lexer": "ipython3",
   "version": "3.6.5"
  }
 },
 "nbformat": 4,
 "nbformat_minor": 2
}
